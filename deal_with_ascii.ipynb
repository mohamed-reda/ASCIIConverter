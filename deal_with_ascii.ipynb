{
 "cells": [
  {
   "cell_type": "code",
   "execution_count": 1,
   "id": "481598b2",
   "metadata": {},
   "outputs": [
    {
     "name": "stdout",
     "output_type": "stream",
     "text": [
      "<built-in function ascii>\n"
     ]
    }
   ],
   "source": [
    "chr(109)\n",
    "\n",
    "print(ascii)\n",
    "\n"
   ]
  },
  {
   "cell_type": "code",
   "execution_count": 2,
   "id": "b1d0013a",
   "metadata": {},
   "outputs": [
    {
     "name": "stdout",
     "output_type": "stream",
     "text": [
      "101\n"
     ]
    }
   ],
   "source": [
    "ascii = '101097032097099097100101109121'\n",
    "print(ascii[0:3])\n"
   ]
  },
  {
   "cell_type": "code",
   "execution_count": 3,
   "id": "5a861657",
   "metadata": {},
   "outputs": [
    {
     "name": "stdout",
     "output_type": "stream",
     "text": [
      "e\n",
      "109\n",
      "097\n",
      "032\n",
      "097\n",
      "099\n",
      "097\n",
      "100\n",
      "101\n",
      "109\n",
      "121\n"
     ]
    }
   ],
   "source": [
    "\n",
    "print(chr(int(ascii[0:3])))\n",
    "ascii = \"109097032097099097100101109121\"\n",
    "for i in range(len(ascii) // 3):\n",
    "    print('{0}'.format(ascii[i * 3:i * 3 + 3]))"
   ]
  },
  {
   "cell_type": "code",
   "execution_count": 6,
   "id": "c0a6e61a",
   "metadata": {},
   "outputs": [
    {
     "name": "stdout",
     "output_type": "stream",
     "text": [
      "m\n",
      "a\n",
      " \n",
      "a\n",
      "c\n",
      "a\n",
      "d\n",
      "e\n",
      "m\n",
      "y\n"
     ]
    }
   ],
   "source": [
    "ascii = \"109097032097099097100101109121\"\n",
    "for i in range(len(ascii)//3):\n",
    "    print('{0}'.format(chr(int(ascii[i*3 :i*3+3]))))"
   ]
  },
  {
   "cell_type": "code",
   "execution_count": 7,
   "id": "d03bb197",
   "metadata": {},
   "outputs": [
    {
     "name": "stdout",
     "output_type": "stream",
     "text": [
      "ma academy"
     ]
    }
   ],
   "source": [
    "ascii = \"109097032097099097100101109121\"\n",
    "for i in range(len(ascii)//3):\n",
    "    print('{0}'.format(chr(int(ascii[i*3:i*3+3]))), end=\"\")"
   ]
  },
  {
   "cell_type": "code",
   "execution_count": 13,
   "id": "ef976a6d",
   "metadata": {},
   "outputs": [],
   "source": [
    "ascii ='109097032097099097100101109121032112121116104111110032112114111103114097109109105110103032099104097108108101110103101115'"
   ]
  },
  {
   "cell_type": "code",
   "execution_count": 14,
   "id": "5bad4b48",
   "metadata": {},
   "outputs": [
    {
     "name": "stdout",
     "output_type": "stream",
     "text": [
      "109\n",
      "097\n",
      "032\n",
      "097\n",
      "099\n",
      "097\n",
      "100\n",
      "101\n",
      "109\n",
      "121\n",
      "032\n",
      "112\n",
      "121\n",
      "116\n",
      "104\n",
      "111\n",
      "110\n",
      "032\n",
      "112\n",
      "114\n",
      "111\n",
      "103\n",
      "114\n",
      "097\n",
      "109\n",
      "109\n",
      "105\n",
      "110\n",
      "103\n",
      "032\n",
      "099\n",
      "104\n",
      "097\n",
      "108\n",
      "108\n",
      "101\n",
      "110\n",
      "103\n",
      "101\n",
      "115\n"
     ]
    }
   ],
   "source": [
    "for i in range(len(ascii) // 3):\n",
    "    print('{0}'.format(ascii[i * 3:i * 3 + 3]))"
   ]
  },
  {
   "cell_type": "code",
   "execution_count": 15,
   "id": "79e9f5c7",
   "metadata": {},
   "outputs": [
    {
     "name": "stdout",
     "output_type": "stream",
     "text": [
      "m\n",
      "a\n",
      " \n",
      "a\n",
      "c\n",
      "a\n",
      "d\n",
      "e\n",
      "m\n",
      "y\n",
      " \n",
      "p\n",
      "y\n",
      "t\n",
      "h\n",
      "o\n",
      "n\n",
      " \n",
      "p\n",
      "r\n",
      "o\n",
      "g\n",
      "r\n",
      "a\n",
      "m\n",
      "m\n",
      "i\n",
      "n\n",
      "g\n",
      " \n",
      "c\n",
      "h\n",
      "a\n",
      "l\n",
      "l\n",
      "e\n",
      "n\n",
      "g\n",
      "e\n",
      "s\n"
     ]
    }
   ],
   "source": [
    "for i in range(len(ascii)//3):\n",
    "    print('{0}'.format(chr(int(ascii[i*3 :i*3+3]))))"
   ]
  },
  {
   "cell_type": "code",
   "execution_count": 16,
   "id": "ef0d4ebc",
   "metadata": {},
   "outputs": [
    {
     "name": "stdout",
     "output_type": "stream",
     "text": [
      "ma academy python programming challenges"
     ]
    }
   ],
   "source": [
    "for i in range(len(ascii)//3):\n",
    "    print('{0}'.format(chr(int(ascii[i*3:i*3+3]))), end=\"\")"
   ]
  },
  {
   "cell_type": "code",
   "execution_count": null,
   "id": "f5cfd1bc",
   "metadata": {},
   "outputs": [],
   "source": []
  }
 ],
 "metadata": {
  "kernelspec": {
   "display_name": "Python 3 (ipykernel)",
   "language": "python",
   "name": "python3"
  },
  "language_info": {
   "codemirror_mode": {
    "name": "ipython",
    "version": 3
   },
   "file_extension": ".py",
   "mimetype": "text/x-python",
   "name": "python",
   "nbconvert_exporter": "python",
   "pygments_lexer": "ipython3",
   "version": "3.11.0"
  }
 },
 "nbformat": 4,
 "nbformat_minor": 5
}
